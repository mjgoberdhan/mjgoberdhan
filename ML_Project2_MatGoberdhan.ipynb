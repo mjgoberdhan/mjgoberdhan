{
  "nbformat": 4,
  "nbformat_minor": 0,
  "metadata": {
    "colab": {
      "name": "HW2_MatGoberdhan.ipynb",
      "provenance": [],
      "collapsed_sections": []
    },
    "kernelspec": {
      "name": "python3",
      "display_name": "Python 3"
    },
    "language_info": {
      "name": "python"
    }
  },
  "cells": [
    {
      "cell_type": "markdown",
      "metadata": {
        "id": "view-in-github"
      },
      "source": [
        "<a href=\"https://colab.research.google.com/github/yexf308/MAT592/blob/main/homework/HW2.ipynb\" target=\"_parent\"><img src=\"https://colab.research.google.com/assets/colab-badge.svg\" alt=\"Open In Colab\"/></a>"
      ]
    },
    {
      "cell_type": "markdown",
      "metadata": {
        "id": "0PPmXK0NPB16"
      },
      "source": [
        "# Homework 2\n",
        "## Homework guideline\n",
        "- The deadline is Oct 30th 10:30am. Submission after the deadline will not be graded. \n",
        "\n",
        "- Submit your work(your reasoning and your code) as a SINGLE .ipynb document. Please rename the document as _HW1_YOURNAME.ipynb_ (for example, _HW1_FELIX.ipynb_). You are responsible for checking that you have correctly submitted the correct document. If your code cannot run, you may receive NO point. \n",
        "\n",
        "- Please justify all short answers with a brief explanation.\n",
        "\n",
        "- You only use the Python packages included in the following cell. You are not allowed to use other advanced package or modules unless you are permitted to. \n",
        "\n",
        "- In your final submission include the plots produced by the unedited code as presented below, as well as any additional plots produced after editing the code during the course of a problem. You may find it necessary to copy/paste relevant code into additional cells to accomplish this.\n",
        "\n",
        "- Feel free to use the lecture notes and other resources but work on your own!"
      ]
    },
    {
      "cell_type": "code",
      "metadata": {
        "colab": {
          "base_uri": "https://localhost:8080/"
        },
        "id": "tZDH51c-2EU1",
        "outputId": "70937809-a698-4ff6-ead8-60f21bd81527"
      },
      "source": [
        "%pylab inline"
      ],
      "execution_count": 1,
      "outputs": [
        {
          "output_type": "stream",
          "name": "stdout",
          "text": [
            "Populating the interactive namespace from numpy and matplotlib\n"
          ]
        }
      ]
    },
    {
      "cell_type": "markdown",
      "metadata": {
        "id": "rtKWusbFzQIk"
      },
      "source": [
        "# Modified MNIST\n",
        "I modified the the original MNIST gray-scale image dataset, where samples of digit 9 belong to class 1, and otherwise class 0. Now it becomes binary logistic regression. \n",
        "It contains a training set of images $\\texttt{Xtr}$ with labels $\\texttt{Ytr}$ and a testing set\n",
        "of images $\\texttt{Xte}$ with labels $\\texttt{Yte}$. There are 6000 samples in training sets and 1000 samples in testing sets."
      ]
    },
    {
      "cell_type": "code",
      "metadata": {
        "colab": {
          "base_uri": "https://localhost:8080/"
        },
        "id": "egCp1Xyi2A60",
        "outputId": "8a770c04-b308-48f2-b996-c578633c123a"
      },
      "source": [
        "from keras.datasets import mnist\n",
        "(train_X, train_y), (test_X, test_y) = mnist.load_data()\n",
        "Xtr                   = train_X[0:6000, :]\n",
        "train_y_part          = train_y[0:6000]\n",
        "Ytr                   = zeros(train_y_part.size)\n",
        "Ytr[train_y_part==9]=1\n",
        "\n",
        "Xte                   = test_X[0:1000,:]\n",
        "test_y_part           = test_y[0:1000]\n",
        "Yte  = zeros(test_y_part.size)\n",
        "Yte[test_y_part==9]=1\n",
        "\n",
        "print('Xtr: ' + str(Xtr.shape))\n",
        "print('Ytr: ' + str(Ytr.shape))\n",
        "print('Xte: '  + str(Xte.shape))\n",
        "print('Yte: '  + str(Yte.shape))"
      ],
      "execution_count": 2,
      "outputs": [
        {
          "output_type": "stream",
          "name": "stdout",
          "text": [
            "Downloading data from https://storage.googleapis.com/tensorflow/tf-keras-datasets/mnist.npz\n",
            "11493376/11490434 [==============================] - 0s 0us/step\n",
            "11501568/11490434 [==============================] - 0s 0us/step\n",
            "Xtr: (6000, 28, 28)\n",
            "Ytr: (6000,)\n",
            "Xte: (1000, 28, 28)\n",
            "Yte: (1000,)\n"
          ]
        }
      ]
    },
    {
      "cell_type": "code",
      "metadata": {
        "colab": {
          "base_uri": "https://localhost:8080/",
          "height": 593
        },
        "id": "mTnDjIzx3R24",
        "outputId": "1eb461f9-8af6-42b0-99be-0e446268411a"
      },
      "source": [
        "fig, axs = plt.subplots(3, 3,figsize=(10,10))\n",
        "axs = axs.ravel()\n",
        "index = where(Ytr>0)[0]\n",
        "for i in range(9):\n",
        "    axs[i].imshow(Xtr[index[i]], cmap=pyplot.get_cmap('gray'))"
      ],
      "execution_count": 3,
      "outputs": [
        {
          "output_type": "display_data",
          "data": {
            "image/png": "[encoded data removed]",
            "text/plain": [
              "<Figure size 720x720 with 9 Axes>"
            ]
          },
          "metadata": {
            "needs_background": "light"
          }
        }
      ]
    },
    {
      "cell_type": "markdown",
      "metadata": {
        "id": "_f5Jvc-04O05"
      },
      "source": [
        "## Q1: Logistic regression (20pt)\n",
        "\n",
        "---\n",
        "\n",
        "\n",
        "### 1. Data preparation for training and testing (5pt)\n",
        "Prepare your matrix $\\mathbf{X}$ and your output label $\\mathbf{y}$ for the training data. Please count the number of 9 out of these 6000 training set. What is the dimension of the matrix $\\mathbf{X}$. Don't forget to do the same preparation for the testing data. "
      ]
    },
    {
      "cell_type": "code",
      "metadata": {
        "id": "zfPxewPNPaxI",
        "colab": {
          "base_uri": "https://localhost:8080/"
        },
        "outputId": "b5f80780-3e00-4941-d123-e730ea20d27d"
      },
      "source": [
        " #@title Q1.1 your code starts here\n",
        "\n",
        "#Training\n",
        "x=reshape(Xtr, [6000,784])\n",
        "x_ones=np.ones((6000,1))\n",
        "X=np.column_stack((x_ones,x))\n",
        "\n",
        "y=Ytr\n",
        "\n",
        "print(f'Dimension of X: {X.shape}')\n",
        "print(f'Size of y: {y.shape[0]}')\n",
        "print(f'Training set has {int(sum(y))} \"9s\"\\n')\n",
        "\n",
        "#Testing\n",
        "x_test=reshape(Xte,[1000,784])\n",
        "x_ones_test=np.ones((1000,1))\n",
        "X_test=np.column_stack((x_ones_test,x_test))\n",
        "\n",
        "y_test=Yte\n",
        "\n",
        "print(f'Dimension of X_test: {X_test.shape}')\n",
        "print(f'Size of y_test: {y_test.shape[0]}')\n",
        "print(f'Testing set has {int(sum(y_test))} \"9s\"')\n"
      ],
      "execution_count": 5,
      "outputs": [
        {
          "output_type": "stream",
          "name": "stdout",
          "text": [
            "Dimension of X: (6000, 785)\n",
            "Size of y: 6000\n",
            "Training set has 601 \"9s\"\n",
            "\n",
            "Dimension of X_test: (1000, 785)\n",
            "Size of y_test: 1000\n",
            "Testing set has 94 \"9s\"\n"
          ]
        }
      ]
    },
    {
      "cell_type": "markdown",
      "metadata": {
        "id": "ERvvzBXc5khg"
      },
      "source": [
        "### **Your Answer:**\n",
        "\n",
        "The training set has 601 9's. The dimension of X is (6000 , 785)."
      ]
    },
    {
      "cell_type": "markdown",
      "metadata": {
        "id": "joKAPaOEnOu-"
      },
      "source": [
        "\n",
        "---\n",
        "### 2. Logistic regression (15pt)\n",
        "\n",
        "Perform logistic regression with the sigmoid activation function using **mini-batches descent method**. The mini-batch size is 25, the learning rate is $\\eta_t = \\frac{1}{(1+2t)^3}$ and total iteration number is $50$. You might need to restart the training with better initial conditions. Modify my code to accomodate it. \n",
        "\n",
        "Please use the testing set to validate the logistic regression model. What is the test error rate?  Could you plot several pictures that logistic regression model misclassified the digit 9. \n"
      ]
    },
    {
      "cell_type": "code",
      "metadata": {
        "id": "rqnurYHKpfEO",
        "colab": {
          "base_uri": "https://localhost:8080/",
          "height": 678
        },
        "cellView": "form",
        "outputId": "15d01bd1-54bb-4aa2-b26b-be0f623cd892"
      },
      "source": [
        "#@title Q1.2 your code starts here\n",
        "\n",
        "def predict(X, w):\n",
        "\tz = w.dot(X)\n",
        "\treturn 1.0 / (1.0 + exp(-z))\n",
        " \n",
        "#learning rate is 1/(1+2t)^3\n",
        "n_iter = 50\n",
        "n_span = arange(n_iter)\n",
        "l_rate_span = 1/((1+2 * n_span)**3)\n",
        "\n",
        "def train_weights(X, y, l_rate_span, n_iter, weights, batch_size, threshold=0.002):\n",
        "\n",
        "  n,m = X.shape\n",
        "\n",
        "  for iter in range(n_iter):\n",
        "    l_rate   = l_rate_span[iter]\n",
        "    sum_error = 0\n",
        "    arr=arange(n)\n",
        "    np.random.shuffle(arr)\n",
        "\n",
        "    for i in range(int(n/batch_size)):\n",
        "      batch_sum = 0\n",
        "      mini_arr=arr[i*batch_size:(i+1)*batch_size]\n",
        "\n",
        "      for j in mini_arr:\n",
        "        pred = predict(X[j,:], weights)\n",
        "        error = pred - y[j]\n",
        "        sum_error += error**2\n",
        "        batch_sum += error*X[j,:]\n",
        "  \n",
        "      weights = weights - (l_rate/batch_size) * batch_sum\n",
        "    \n",
        "    #print(f'At interation {iter}, error is {sum_error}')\n",
        "\n",
        "    if sum_error<threshold:\n",
        "      break\n",
        "\n",
        "  return weights\n",
        "\n",
        "#initializing initial weights\n",
        "IC=train_weights(X, y, l_rate_span, 50, np.random.random_sample(785), 25)\n",
        "\n",
        "#trained weights\n",
        "w=train_weights(X, y, l_rate_span, 50, IC, 25)\n",
        "\n",
        "#test prediction\n",
        "y_pred = predict(w,X_test)\n",
        "\n",
        "y_pred[y_pred>=1/2]=1\n",
        "y_pred[y_pred<1/2]=0\n",
        "\n",
        "#test error rate:\n",
        "print(f'Test Error for Logistic Regression is {norm(y_test - y_pred,0)/1000}\\n')\n",
        "\n",
        "#Misclassifications of the digit 9\n",
        "print('Few Misclassified Digits in Logistic Regression')\n",
        "fig, axs = plt.subplots(3, 3,figsize=(10,10))\n",
        "axs = axs.ravel()\n",
        "index = where(y_test - y_pred!=0)[0]\n",
        "for i in range(9):\n",
        "    axs[i].imshow(Xte[index[i]], cmap=pyplot.get_cmap('gray'))"
      ],
      "execution_count": 6,
      "outputs": [
        {
          "output_type": "stream",
          "name": "stderr",
          "text": [
            "/usr/local/lib/python3.7/dist-packages/ipykernel_launcher.py:5: RuntimeWarning: overflow encountered in exp\n",
            "  \"\"\"\n"
          ]
        },
        {
          "output_type": "stream",
          "name": "stdout",
          "text": [
            "Test Error for Logistic Regression is 0.094\n",
            "\n",
            "Few Misclassified Digits in Logistic Regression\n"
          ]
        },
        {
          "output_type": "display_data",
          "data": {
            "image/png": "[encoded data removed]",
            "text/plain": [
              "<Figure size 720x720 with 9 Axes>"
            ]
          },
          "metadata": {
            "needs_background": "light"
          }
        }
      ]
    },
    {
      "cell_type": "markdown",
      "metadata": {
        "id": "31BQ2vMFphF6"
      },
      "source": [
        "### **Your Answer:**\n",
        "\n",
        "Test error for Logistic Regression is subject to change due to randomization. However, the printed statement above is to account for that change. Therefore, reported test error and a few misclassified digits can be found in the above printed statements and plots."
      ]
    },
    {
      "cell_type": "markdown",
      "metadata": {
        "id": "SGwYMQh5veK-"
      },
      "source": [
        "\n",
        "\n",
        "\n",
        "\n",
        "\n",
        "## Q2: Support Vector Machine (50pt)\n",
        "\n",
        "\n",
        "---\n",
        "\n",
        "### 1. Data preparation for training and testing (5pt)\n",
        "Remember in SVM we move the interception out and define the class label is $\\pm1$. Prepare your matrix $\\mathbf{X}$ and your output label $\\mathbf{y}$ for the training data. Don't forget to do the same preparation for the testing data. \n",
        "\n",
        "Can you impose the hard margin classifier for this problem? Why or why not?\n"
      ]
    },
    {
      "cell_type": "code",
      "metadata": {
        "id": "qZkgjb2Gy4Uh",
        "colab": {
          "base_uri": "https://localhost:8080/"
        },
        "outputId": "73ae0a84-a41f-4087-916e-dd694bc9e2f9"
      },
      "source": [
        " #@title Q2.1 your code starts here\n",
        "\n",
        "#Training Error for Logistic Regression\n",
        "\n",
        "IC_train=train_weights(X, y, l_rate_span, 50, np.random.random_sample(785), 25)\n",
        "w_train=train_weights(X, y, l_rate_span, 50, IC, 25)\n",
        "y_pred_train = predict(w,X)\n",
        "y_pred_train[y_pred_train>=1/2]=1\n",
        "y_pred_train[y_pred_train<1/2]=0\n",
        "\n",
        "print(f'Training error rate is {norm(y - y_pred_train,0)/6000}\\n')\n",
        "\n",
        "X_=x\n",
        "X_test_=x_test\n",
        "\n",
        "Ytr[Ytr==0]=-1\n",
        "Yte[Yte==0]=-1\n",
        "\n",
        "y_=Ytr\n",
        "y_test_=Yte\n",
        "\n",
        "print(f'Dimension of X_: {X_.shape}')\n",
        "print(f'Dimension of X_test_: {X_test_.shape}')\n",
        "\n",
        "print(f'Size of y_: {y_.shape[0]}')\n",
        "print(f'Size of y_test_: {y_test_.shape[0]}')"
      ],
      "execution_count": 7,
      "outputs": [
        {
          "output_type": "stream",
          "name": "stderr",
          "text": [
            "/usr/local/lib/python3.7/dist-packages/ipykernel_launcher.py:5: RuntimeWarning: overflow encountered in exp\n",
            "  \"\"\"\n"
          ]
        },
        {
          "output_type": "stream",
          "name": "stdout",
          "text": [
            "Training error rate is 0.10016666666666667\n",
            "\n",
            "Dimension of X_: (6000, 784)\n",
            "Dimension of X_test_: (1000, 784)\n",
            "Size of y_: 6000\n",
            "Size of y_test_: 1000\n"
          ]
        }
      ]
    },
    {
      "cell_type": "markdown",
      "metadata": {
        "id": "9Qt_c9mGwU1T"
      },
      "source": [
        "### **Your Answer:**\n",
        "\n",
        "You will not be able to impose the hard margin classifier for this problem because the data is not separable. The training error rate for logistic regression is not 0 (can be observed above printed statements), which it should be if it were separable."
      ]
    },
    {
      "cell_type": "markdown",
      "metadata": {
        "id": "ulRUTLcDzRHl"
      },
      "source": [
        "\n",
        "\n",
        "---\n",
        "\n",
        "\n",
        "### 2. Soft Margin with Hinge Loss (15pt)\n",
        "Perform the soft margin with hinge loss using stochastic gradient descent method. \n",
        "$$\\boxed{\\min_{\\mathbf{w}\\in \\mathbb{R}^d, w_0\\in \\mathbb{R}} \\lambda\\sum_{i=1}^N \\max\\left\\{0, 1-\\mathbf{y}^{(i)}(\\mathbf{w}^\\top \\mathbf{x}^{(i)}+w_0)\\right\\} +\\frac{1}{2} \\|\\mathbf{w}\\|_2^2 }$$\n",
        "The learning rate is $\\eta_t = \\frac{1}{(1+2t)^2}$ and total iteration number is $100$. The regulation parameter $\\lambda$ is selected as follows, \n",
        "$$ \\lambda\\in \\{10^{-4},10^{-3},10^{-2},10^{-1},1,10,100,1000,10000 \\}$$\n",
        "Report the test error rates for each $\\lambda$ and find the best parameter $\\lambda$. \n",
        "You might need to restart the training with better initial conditions. \n"
      ]
    },
    {
      "cell_type": "code",
      "metadata": {
        "id": "l2cxjlVZ3HK4",
        "colab": {
          "base_uri": "https://localhost:8080/"
        },
        "cellView": "form",
        "outputId": "9b38cb36-3ebc-4579-f906-8912a7ae8927"
      },
      "source": [
        " #@title Q2.2 your code starts here\n",
        "\n",
        "L=[10**-4, 10**-3, 10**-2, 10**-1, 1, 10, 100, 1000, 10000]\n",
        "\n",
        "def LOSS_f(X,y,w,w0,lambda_param):\n",
        "   N,d = X.shape\n",
        "   LOSS = 1/2 * norm(w)**2\n",
        "   for i in range(N):\n",
        "     condition = 1 - y[i] * (w.dot(X[i,:])+w0)\n",
        "     LOSS = LOSS + lambda_param * max(condition, 0)\n",
        "   return LOSS\n",
        "\n",
        "def predict(x, w, w0):\n",
        "\tactivation = x.dot(w)+w0\n",
        "\n",
        "\treturn activation\n",
        "\t#return 1 if activation >= 0.0 else -1\n",
        "\n",
        "n_iter = 100\n",
        "n_span = arange(n_iter)\n",
        "learning_rate_span = 1/((1+ 2*n_span)**2)\n",
        "\n",
        "def train_weights(X, y, learning_rate_span,lambda_param, n_iter):\n",
        "  N,d = X.shape\n",
        "  w   = np.random.random_sample(784)\n",
        "  w[1] = 2\n",
        "  w0  = 2\n",
        "  for iter in range(n_iter):\n",
        "    learning_rate = learning_rate_span[iter]\n",
        "    arr = np.arange(N)\n",
        "    random.shuffle(arr)\n",
        "    for i in arr:\n",
        "          condition = y[i] * (w.dot(X[i,:])+w0) >= 1\n",
        "          if condition:\n",
        "            w = w - learning_rate *  w\n",
        "\n",
        "          else:\n",
        "            w  = w - learning_rate * (w - lambda_param *y[i] * X[i,:] )\n",
        "            w0 = w0 - learning_rate * ( -lambda_param * y[i] ) \n",
        "    #print(iter)\n",
        "  return w, w0\n",
        "\n",
        "errors = []\n",
        "for l in L:\n",
        "  w,w0 = train_weights(X_, y_, learning_rate_span, l, n_iter)\n",
        "  y_p = predict(X_test_, w, w0)\n",
        "  y_p[y_p>=0]=1\n",
        "  y_p[y_p<=0]=-1\n",
        "  test_error = norm(y_p-y_test_,0)/1000\n",
        "  errors.append(test_error)\n",
        "  print(f'For l = {l}, test error is {test_error}')\n",
        "\n",
        "print(f'\\nOptimal lambda parameter for Soft Margin with Hinge Loss is {L[errors.index(min(errors))]} with test error {errors[errors.index(min(errors))]}')"
      ],
      "execution_count": 8,
      "outputs": [
        {
          "output_type": "stream",
          "name": "stdout",
          "text": [
            "For l = 0.0001, test error is 0.093\n",
            "For l = 0.001, test error is 0.042\n",
            "For l = 0.01, test error is 0.045\n",
            "For l = 0.1, test error is 0.112\n",
            "For l = 1, test error is 0.056\n",
            "For l = 10, test error is 0.057\n",
            "For l = 100, test error is 0.067\n",
            "For l = 1000, test error is 0.074\n",
            "For l = 10000, test error is 0.06\n",
            "\n",
            "Optimal lambda parameter for Soft Margin with Hinge Loss is 0.001 with test error 0.042\n"
          ]
        }
      ]
    },
    {
      "cell_type": "markdown",
      "metadata": {
        "id": "3t3xKcF-3KLH"
      },
      "source": [
        "### **Your Answer:**\n",
        "\n",
        "Optimal parameter $\\lambda$ with corresponding test error for SMHL is subject to change due to randomization. However, the printed statement above is to account for that change. Therefore, reported test error rates and optimal parameter $\\lambda$ can be found in the above printed statements."
      ]
    },
    {
      "cell_type": "markdown",
      "metadata": {
        "id": "Y0y8ouw8IPOY"
      },
      "source": [
        "\n",
        "\n",
        "---\n",
        "\n",
        "\n",
        "### 3. Prepare for soft margin with log loss (10pt)\n",
        "Please compute the following two gradient:\n",
        "$$ \\nabla_\\mathbf{w} \\log\\left(1+e^{-y^{(i)}(\\mathbf{w}^\\top\\mathbf{x}^{(i)}+w_0 )}\\right)= $$\n",
        "\n",
        "$$ \\nabla_{w_0}\\log\\left(1+e^{-y^{(i)}(\\mathbf{w}^\\top\\mathbf{x}^{(i)}+w_0 )}\\right)=$$"
      ]
    },
    {
      "cell_type": "markdown",
      "metadata": {
        "id": "KPW7r24hI0Bc"
      },
      "source": [
        "### **Your Answer:**"
      ]
    },
    {
      "cell_type": "markdown",
      "metadata": {
        "id": "kswFJPcaw668"
      },
      "source": [
        "Using the following derivative rules for $\\log$ and $e$,\n",
        "\n",
        "\\\\\n",
        "\n",
        "For function $f(x)$,\n",
        "\n",
        "$\\nabla_x\\log{f(x)} = \\frac{1}{f(x)}f'(x)$ and $\\nabla_x e^{f(x)} = f'(x)e^{f(x)}$\n",
        "\n",
        "\\\\\n",
        "\n",
        "we have the follow:\n",
        "\n",
        "$\\begin{equation}\n",
        "\\begin{aligned}\n",
        "\\mathcal \\nabla_\\mathbf{w} \\log(1 + e^{-y^{(i)}(w^Tx^{(i)}+w_o)}) &= \\frac{1}{1 + e^{-y^{(i)}(w^Tx^{(i)}+w_o)}}[-y^{(i)}x^{(i)}e^{-y^{(i)}(w^Tx^{(i)}+w_o)}]\n",
        "\\\\\n",
        "\\\\\n",
        "& = \\frac{-y^{(i)}x^{(i)}e^{-y^{(i)}(w^Tx^{(i)}+w_o)}}{1 + e^{-y^{(i)}(w^Tx^{(i)}+w_o)}}\n",
        "\\\\\n",
        "\\\\\n",
        "& = \\frac{-y^{(i)}x^{(i)}e^{-y^{(i)}(w^Tx^{(i)}+w_o)}}{1 + e^{-y^{(i)}(w^Tx^{(i)}+w_o)}}\\frac{e^{y^{(i)}(w^Tx^{(i)}+w_o)}}{e^{y^{(i)}(w^Tx^{(i)}+w_o)}}\n",
        "\\\\\n",
        "\\\\\n",
        "&= \\frac{-y^{(i)}x^{(i)}}{e^{y^{(i)}(w^Tx^{(i)}+w_o)}+1}\n",
        "\\end{aligned}\n",
        "\\end{equation}$\n",
        "\n",
        "\\\\\n",
        "\n",
        "$\\begin{equation}\n",
        "\\begin{aligned}\n",
        "\\mathcal \\nabla_{w_o} \\log(1 + e^{-y^{(i)}(w^Tx^{(i)}+w_o)}) &= \\frac{1}{1 + e^{-y^{(i)}(w^Tx^{(i)}+w_o)}}[-y^{(i)}e^{-y^{(i)}(w^Tx^{(i)}+w_o)}]\n",
        "\\\\\n",
        "\\\\\n",
        "& = \\frac{-y^{(i)}e^{-y^{(i)}(w^Tx^{(i)}+w_o)}}{1 + e^{-y^{(i)}(w^Tx^{(i)}+w_o)}}\n",
        "\\\\\n",
        "\\\\\n",
        "& = \\frac{-y^{(i)}e^{-y^{(i)}(w^Tx^{(i)}+w_o)}}{1 + e^{-y^{(i)}(w^Tx^{(i)}+w_o)}}\\frac{e^{y^{(i)}(w^Tx^{(i)}+w_o)}}{e^{y^{(i)}(w^Tx^{(i)}+w_o)}}\n",
        "\\\\\n",
        "\\\\\n",
        "&= \\frac{-y^{(i)}}{e^{y^{(i)}(w^Tx^{(i)}+w_o)}+1}\n",
        "\\end{aligned}\n",
        "\\end{equation}$"
      ]
    },
    {
      "cell_type": "markdown",
      "metadata": {
        "id": "ewDvguQH9XS-"
      },
      "source": [
        "\n",
        "\n",
        "---\n",
        "\n",
        "\n",
        "### 4. Soft Margin with Log Loss (20pt)\n",
        "Perform the soft margin with log loss using stochastic gradient descent method.\n",
        "$$\\boxed{\\min_{\\mathbf{w}\\in \\mathbb{R}^d, w_0\\in\\mathbb{R}}  \\lambda \\sum_{i=1}^N\\log\\left(1+e^{-y^{(i)}(\\mathbf{w}^\\top\\mathbf{x}^{(i)}+w_0 )}\\right)  +\\frac{1}{2}\\|\\mathbf{w}\\|_2^2 } $$\n",
        "Similarly, the learning rate is $\\eta_t = \\frac{1}{(1+2t)^2}$ and total iteration number is $100$. The regulation parameter $\\lambda$ is selected as follows, \n",
        "$$ \\lambda\\in \\{10^{-4},10^{-3},10^{-2},10^{-1},1,10,100,1000,10000 \\}$$\n",
        "Report the test error rates for each $\\lambda$ and find the best parameter $\\lambda$. \n",
        "You might need to restart the training with better initial conditions. \n"
      ]
    },
    {
      "cell_type": "code",
      "metadata": {
        "id": "6GzE4I64Mdqp",
        "colab": {
          "base_uri": "https://localhost:8080/"
        },
        "cellView": "form",
        "outputId": "193600fc-9e1b-47a9-9497-16fc8e29a947"
      },
      "source": [
        " #@title Q2.4 your code starts here\n",
        "\n",
        "def LOG_f(X,y,w,w0,lambda_param):\n",
        "   N,d = X.shape\n",
        "   LOG = 1/2 * norm(w)**2\n",
        "   for i in range(N):\n",
        "     condition = 1 + np.exp(y[i] * (w.dot(X[i,:])+w0))\n",
        "     LOG = LOG + lambda_param * condition\n",
        "   return LOG\n",
        "\n",
        "def train_weights(X, y, learning_rate_span,lambda_param, n_iter=100):\n",
        "  N,d = X.shape\n",
        "  w   = np.random.random_sample(784)\n",
        "  w[1] = 2\n",
        "  w0  = 2\n",
        "  for iter in range(n_iter):\n",
        "    learning_rate = learning_rate_span[iter]\n",
        "    arr = np.arange(N)\n",
        "    random.shuffle(arr)\n",
        "    for i in arr:\n",
        "      w  = w - learning_rate * ( (-lambda_param * y[i] * X[i,:]) / (1 + np.exp(y[i] * (w.dot(X[i,:]) + w0) ) ) + w)\n",
        "      w0 = w0 - learning_rate * ( (-lambda_param * y[i]) / (1 + np.exp(y[i] * (w.dot(X[i,:]) + w0) ) ) ) \n",
        "    #print(iter)\n",
        "  return w, w0\n",
        "\n",
        "errors2 = []\n",
        "for l in L:\n",
        "  w,w0 = train_weights(X_, y_, learning_rate_span, l, n_iter)\n",
        "  y_p = predict(X_test_, w, w0)\n",
        "  y_p[y_p>=0]=1\n",
        "  y_p[y_p<=0]=-1\n",
        "  test_error = norm(y_p-y_test_,0)/1000\n",
        "  errors2.append(test_error)\n",
        "  print(f'For l = {l}, test error is {test_error}')\n",
        "\n",
        "print(f'\\nOptimal lambda parameter for Soft Margin with Log Loss is {L[errors2.index(min(errors2))]} with test error {errors2[errors2.index(min(errors2))]}')"
      ],
      "execution_count": 9,
      "outputs": [
        {
          "output_type": "stream",
          "name": "stderr",
          "text": [
            "/usr/local/lib/python3.7/dist-packages/ipykernel_launcher.py:22: RuntimeWarning: overflow encountered in exp\n",
            "/usr/local/lib/python3.7/dist-packages/ipykernel_launcher.py:21: RuntimeWarning: overflow encountered in exp\n"
          ]
        },
        {
          "output_type": "stream",
          "name": "stdout",
          "text": [
            "For l = 0.0001, test error is 0.097\n",
            "For l = 0.001, test error is 0.045\n",
            "For l = 0.01, test error is 0.04\n",
            "For l = 0.1, test error is 0.05\n",
            "For l = 1, test error is 0.107\n",
            "For l = 10, test error is 0.085\n",
            "For l = 100, test error is 0.055\n",
            "For l = 1000, test error is 0.056\n",
            "For l = 10000, test error is 0.072\n",
            "\n",
            "Optimal lambda parameter for Soft Margin with Log Loss is 0.01 with test error 0.04\n"
          ]
        }
      ]
    },
    {
      "cell_type": "markdown",
      "metadata": {
        "id": "iQ9_jl56Mf1_"
      },
      "source": [
        "### **Your Answer:**\n",
        "\n",
        "Optimal parameter $\\lambda$ with corresponding test error for SMLL is subject to change due to randomization. However, the printed statement above is to account for that change. Therefore, reported test error rates and optimal parameter $\\lambda$ can be found in the above printed statements."
      ]
    },
    {
      "cell_type": "markdown",
      "metadata": {
        "id": "NIXStFDeAPPh"
      },
      "source": [
        "\n",
        "---\n",
        "\n",
        "\n",
        "### 5. Optional problem: try the kernel trick \n",
        "You can try to use the kernel trick with various different $\\sigma^2$ and $\\lambda$. What is your difficulty and your findings here? "
      ]
    },
    {
      "cell_type": "markdown",
      "metadata": {
        "id": "KuOQuIqbA5gE"
      },
      "source": [
        "### **Your Answer:**"
      ]
    },
    {
      "cell_type": "markdown",
      "metadata": {
        "id": "fYrdJc1pJ8g3"
      },
      "source": [
        "\n",
        "\n",
        "\n",
        "\n",
        "## Q3: $k$-NN on Iris data (30pt)\n",
        "\n",
        "\n",
        "---\n",
        "\n",
        "This data sets consists of 3 different types of irises’ (Setosa, Versicolour, and Virginica) petal and sepal length, stored in a $150\\times4$ matrices.\n",
        "\n",
        "The rows being the samples and the columns being: Sepal Length, Sepal Width, Petal Length and Petal Width.\n",
        "\n",
        "\n"
      ]
    },
    {
      "cell_type": "code",
      "metadata": {
        "colab": {
          "base_uri": "https://localhost:8080/"
        },
        "id": "uiHks7wWLaCt",
        "outputId": "a3061d38-7d33-4c2a-e207-fbbf7a1a6606"
      },
      "source": [
        "# you are not allowed to use other package and modules \n",
        "from sklearn.datasets import load_iris\n",
        "from sklearn.model_selection import train_test_split\n",
        "\n",
        "iris = load_iris()\n",
        "X = iris.data\n",
        "y = iris.target\n",
        "\n",
        "# Split in training and testing set\n",
        "X_train, X_test, y_train, y_test = train_test_split(X, y, test_size=0.6, stratify=y)\n",
        "\n",
        "print(f'Dimensions of X_train: {X_train.shape}')\n",
        "print(f'Dimensions of X_test: {X_test.shape}')"
      ],
      "execution_count": 13,
      "outputs": [
        {
          "output_type": "stream",
          "name": "stdout",
          "text": [
            "Dimensions of X_train: (60, 4)\n",
            "Dimensions of X_test: (90, 4)\n"
          ]
        }
      ]
    },
    {
      "cell_type": "markdown",
      "metadata": {
        "id": "XUVQkjRdMFhD"
      },
      "source": [
        "## 1. Use 5-fold cross validation to find optimal $k$ (20pt)\n",
        "Here we only use the training dataset, `X_train` and `y_train`. We will test $k$ range from 1 to 21. For each $k$, we will use 5-fold cross validation to estimate the average misclassification rate. Please plot the average misclassification rate verse $k$ and find the optimal $k$. "
      ]
    },
    {
      "cell_type": "code",
      "metadata": {
        "id": "FNKDoRedNl_a",
        "colab": {
          "base_uri": "https://localhost:8080/",
          "height": 315
        },
        "outputId": "cf250906-336e-4c0f-899a-3cd902fa5bd3",
        "cellView": "form"
      },
      "source": [
        " #@title Q3.1 your code starts here\n",
        "\n",
        "def myknn_predict(k, x_train, y_train, x_test):\n",
        "  labelEst = np.zeros(x_test.shape[0])\n",
        "  for i, x in enumerate(x_test):\n",
        "    dist            = norm(x_train - x, axis=1) # 2-norm\n",
        "    dist_sort_index = argsort(dist)\n",
        "    neigh_labels    = y_train[dist_sort_index[0:k]]\n",
        "    labelEst[i]     = argmax(bincount(neigh_labels)) # simple majority rule\n",
        "  return labelEst\n",
        "\n",
        "scores     = []\n",
        "CV         = 5\n",
        "N_train    = y_train.shape[0]\n",
        "batch      = N_train/CV\n",
        "ks = range(1,22)\n",
        "\n",
        "for k in ks:\n",
        "  x_train_CV = split(X_train, CV)\n",
        "  y_train_CV = split(y_train, CV)\n",
        "  test_errs  = []\n",
        "  for i in range(CV):\n",
        "    index = delete(arange(CV),i)\n",
        "    x_train_CV_i = vstack([x_train_CV[j] for j in index])\n",
        "    y_train_CV_i = hstack([y_train_CV[j] for j in index])\n",
        "    x_test_CV_i  = x_train_CV[i]\n",
        "    y_test_CV_i  = y_train_CV[i]\n",
        "\n",
        "    y_test_CV_i_predicted = myknn_predict(k, x_train_CV_i, y_train_CV_i, x_test_CV_i)\n",
        "    test_errs.append(norm(y_test_CV_i_predicted - y_test_CV_i, 0)/batch)\n",
        "\n",
        "  scores.append(mean(test_errs))  \n",
        "\n",
        "plt.figure()\n",
        "plt.plot(ks, scores, 'ko-', c='blue')\n",
        "plt.xlabel('k', fontsize=13)\n",
        "plt.ylabel('Misclassification Rate', fontsize=13)\n",
        "plt.title('5-fold cross validation, N_train = 60', fontsize=13)"
      ],
      "execution_count": 14,
      "outputs": [
        {
          "output_type": "execute_result",
          "data": {
            "text/plain": [
              "Text(0.5, 1.0, '5-fold cross validation, N_train = 60')"
            ]
          },
          "metadata": {},
          "execution_count": 14
        },
        {
          "output_type": "display_data",
          "data": {
            "image/png": "[encoded data removed]",
            "text/plain": [
              "<Figure size 432x288 with 1 Axes>"
            ]
          },
          "metadata": {
            "needs_background": "light"
          }
        }
      ]
    },
    {
      "cell_type": "markdown",
      "metadata": {
        "id": "Hlx7Yin3NowQ"
      },
      "source": [
        "## 2. Use optimal $k$ to predict in the test dataset (10pt)\n",
        "Now we have the optimal $k$. We will apply the optimal $k$-NN on the test dataset and please estimate the misclassification rate in the test dataset. "
      ]
    },
    {
      "cell_type": "code",
      "metadata": {
        "id": "EtgVnGYXOmOE",
        "colab": {
          "base_uri": "https://localhost:8080/"
        },
        "outputId": "6d5f922e-9233-4210-c65f-9da1672f5e12"
      },
      "source": [
        "\n",
        "x_test_CV = split(X_test, CV)\n",
        "y_test_CV = split(y_test, CV)\n",
        "test_errs  = []\n",
        "for i in range(CV):\n",
        "  index = delete(arange(CV),i)\n",
        "  x_Test_CV_i = vstack([x_test_CV[j] for j in index])\n",
        "  y_Test_CV_i = hstack([y_test_CV[j] for j in index])\n",
        "  x_test_CV_i  = x_test_CV[i]\n",
        "  y_test_CV_i  = y_test_CV[i]\n",
        "\n",
        "  y_test_CV_i_predicted = myknn_predict(scores.index(min(scores))+1, x_Test_CV_i, y_Test_CV_i, x_test_CV_i)\n",
        "  test_errs.append(norm(y_test_CV_i_predicted - y_test_CV_i, 0)/batch)\n",
        "\n",
        "print(f'For optimal k = {scores.index(min(scores))+1}, the misclassification rate is {mean(test_errs)}')"
      ],
      "execution_count": 15,
      "outputs": [
        {
          "output_type": "stream",
          "name": "stdout",
          "text": [
            "For optimal k = 1, the misclassification rate is 0.08333333333333333\n"
          ]
        }
      ]
    },
    {
      "cell_type": "markdown",
      "metadata": {
        "id": "_qgJGm0d-XUT"
      },
      "source": [
        "### **Your Answer:**\n",
        "\n",
        "Optimal $k$ with corresponding misclassification rate is subject to change due to randomization. However, the printed statement above is to account for that change. Therefore, reported optimal $k$ can be found in the above printed statements."
      ]
    }
  ]
}