{
 "cells": [
  {
   "cell_type": "markdown",
   "metadata": {},
   "source": [
    "___\n",
    "\n",
    "<a href='https://www.udemy.com/user/joseportilla/'><img src='../Pierian_Data_Logo.png'/></a>\n",
    "___\n",
    "<center><em>Content Copyright by Pierian Data</em></center>"
   ]
  },
  {
   "cell_type": "markdown",
   "metadata": {},
   "source": [
    "# Milestone Project 1"
   ]
  },
  {
   "cell_type": "markdown",
   "metadata": {},
   "source": [
    "#### Some suggested tools before you get started:\n",
    "To take input from a user:\n",
    "\n",
    "    player1 = input(\"Please pick a marker 'X' or 'O'\")\n",
    "    \n",
    "Note that input() takes in a string. If you need an integer value, use\n",
    "\n",
    "    position = int(input('Please enter a number'))\n",
    "    \n",
    "<br>To clear the screen between moves:\n",
    "\n",
    "    from IPython.display import clear_output\n",
    "    clear_output()\n",
    "    \n",
    "Note that clear_output() will only work in jupyter. To clear the screen in other IDEs, consider:\n",
    "\n",
    "    print('\\n'*100)\n",
    "    \n",
    "This scrolls the previous board up out of view. Now on to the program!"
   ]
  },
  {
   "cell_type": "code",
   "execution_count": 1,
   "metadata": {},
   "outputs": [],
   "source": [
    "from IPython.display import clear_output\n",
    "\n",
    "def display_board(board):\n",
    "    if len(board)==10:\n",
    "        print(f'   {board[1]}   |   {board[2]}   |   {board[3]}\\n______________________\\n   {board[4]}   |   {board[5]}   |   {board[6]}\\n______________________\\n   {board[7]}   |   {board[8]}   |   {board[9]}   ')\n",
    "    else:\n",
    "        print('Game Malfunction')"
   ]
  },
  {
   "cell_type": "code",
   "execution_count": 2,
   "metadata": {},
   "outputs": [
    {
     "name": "stdout",
     "output_type": "stream",
     "text": [
      "   X   |   O   |   X\n",
      "______________________\n",
      "   O   |   X   |   O\n",
      "______________________\n",
      "   X   |   O   |   X   \n"
     ]
    }
   ],
   "source": [
    "test_board = ['#','X','O','X','O','X','O','X','O','X']\n",
    "display_board(test_board)"
   ]
  },
  {
   "cell_type": "code",
   "execution_count": 3,
   "metadata": {},
   "outputs": [],
   "source": [
    "def player_input():\n",
    "    choice = 'wrong'\n",
    "    while choice not in ['X','O']:\n",
    "        choice=input('Player 1, Choose Your Marker (X or O): ').upper()\n",
    "    return (choice)"
   ]
  },
  {
   "cell_type": "code",
   "execution_count": 4,
   "metadata": {},
   "outputs": [
    {
     "name": "stdout",
     "output_type": "stream",
     "text": [
      "Player 1, Choose Your Marker (X or O): X\n"
     ]
    },
    {
     "data": {
      "text/plain": [
       "'X'"
      ]
     },
     "execution_count": 4,
     "metadata": {},
     "output_type": "execute_result"
    }
   ],
   "source": [
    "player_input()"
   ]
  },
  {
   "cell_type": "code",
   "execution_count": 5,
   "metadata": {},
   "outputs": [],
   "source": [
    "def place_marker(board, marker, position):\n",
    "    board.pop(position)\n",
    "    board.insert(position, marker)\n",
    "    return board"
   ]
  },
  {
   "cell_type": "code",
   "execution_count": 6,
   "metadata": {},
   "outputs": [
    {
     "name": "stdout",
     "output_type": "stream",
     "text": [
      "   X   |   O   |   X\n",
      "______________________\n",
      "   O   |   X   |   O\n",
      "______________________\n",
      "   X   |   #   |   X   \n"
     ]
    }
   ],
   "source": [
    "place_marker(test_board,'#',8)\n",
    "display_board(test_board)"
   ]
  },
  {
   "cell_type": "code",
   "execution_count": 7,
   "metadata": {},
   "outputs": [],
   "source": [
    "def win_check(board, mark):\n",
    "    if board[1]==board[2]==board[3]==mark or board[4]==board[5]==board[6]==mark or board[7]==board[8]==board[9]==mark:\n",
    "        return True\n",
    "    elif board[1]==board[4]==board[7]==mark or board[2]==board[5]==board[8]==mark or board[3]==board[6]==board[9]==mark:\n",
    "        return True\n",
    "    elif board[1]==board[5]==board[9]==mark or board[3]==board[5]==board[7]==mark:\n",
    "        return True\n",
    "    else:\n",
    "        return False"
   ]
  },
  {
   "cell_type": "code",
   "execution_count": 8,
   "metadata": {},
   "outputs": [
    {
     "data": {
      "text/plain": [
       "True"
      ]
     },
     "execution_count": 8,
     "metadata": {},
     "output_type": "execute_result"
    }
   ],
   "source": [
    "win_check(test_board,'X')"
   ]
  },
  {
   "cell_type": "code",
   "execution_count": 9,
   "metadata": {},
   "outputs": [],
   "source": [
    "import random\n",
    "\n",
    "def choose_first():\n",
    "    choice=random.randint(1,2)\n",
    "    return('Player '+ str(choice)+ ' Goes First!'), choice"
   ]
  },
  {
   "cell_type": "code",
   "execution_count": 10,
   "metadata": {},
   "outputs": [
    {
     "data": {
      "text/plain": [
       "('Player 1 Goes First!', 1)"
      ]
     },
     "execution_count": 10,
     "metadata": {},
     "output_type": "execute_result"
    }
   ],
   "source": [
    "choose_first()"
   ]
  },
  {
   "cell_type": "code",
   "execution_count": 11,
   "metadata": {},
   "outputs": [],
   "source": [
    "def space_check(board, position):\n",
    "    return board[position]==' '"
   ]
  },
  {
   "cell_type": "code",
   "execution_count": 12,
   "metadata": {},
   "outputs": [
    {
     "data": {
      "text/plain": [
       "False"
      ]
     },
     "execution_count": 12,
     "metadata": {},
     "output_type": "execute_result"
    }
   ],
   "source": [
    "space_check(test_board, 1)"
   ]
  },
  {
   "cell_type": "code",
   "execution_count": 13,
   "metadata": {},
   "outputs": [],
   "source": [
    "def full_board_check(board):\n",
    "    if ' ' not in board:\n",
    "        return True\n",
    "    elif ' ' in board:\n",
    "        return False"
   ]
  },
  {
   "cell_type": "code",
   "execution_count": 14,
   "metadata": {},
   "outputs": [
    {
     "data": {
      "text/plain": [
       "True"
      ]
     },
     "execution_count": 14,
     "metadata": {},
     "output_type": "execute_result"
    }
   ],
   "source": [
    "full_board_check(test_board)"
   ]
  },
  {
   "cell_type": "code",
   "execution_count": 15,
   "metadata": {},
   "outputs": [],
   "source": [
    "def player_choice(board):\n",
    "    position='wrong'\n",
    "    check=False\n",
    "    while position not in range(0,10) or check==False:\n",
    "        position=int(input('Choose Your Position (1-9): '))\n",
    "        \n",
    "        if space_check(board, position)==True:\n",
    "            check=True\n",
    "            return position\n",
    "        else: \n",
    "            print('Space Unavailable: Try Again!')"
   ]
  },
  {
   "cell_type": "code",
   "execution_count": 16,
   "metadata": {},
   "outputs": [],
   "source": [
    "#player_choice(test_board, )"
   ]
  },
  {
   "cell_type": "code",
   "execution_count": 17,
   "metadata": {},
   "outputs": [],
   "source": [
    "def game_on():\n",
    "    choice='wrong'\n",
    "    while choice not in ['Y','N']:\n",
    "        choice=input('Are You Ready To Start The Game? Y or N: ')\n",
    "    if choice=='Y':\n",
    "        return True\n",
    "    elif choice=='N':\n",
    "        return False"
   ]
  },
  {
   "cell_type": "code",
   "execution_count": 18,
   "metadata": {},
   "outputs": [],
   "source": [
    "def replay():\n",
    "    choice='wrong'\n",
    "    while choice not in ['Y','N']:\n",
    "        choice=input('Do You Want To Play Again? Y or N?: ')\n",
    "    if choice=='Y':\n",
    "        return True\n",
    "    elif choice=='N':\n",
    "        return False"
   ]
  },
  {
   "cell_type": "code",
   "execution_count": 19,
   "metadata": {},
   "outputs": [
    {
     "name": "stdout",
     "output_type": "stream",
     "text": [
      "Do You Want To Play Again? Y or N?: N\n"
     ]
    },
    {
     "data": {
      "text/plain": [
       "False"
      ]
     },
     "execution_count": 19,
     "metadata": {},
     "output_type": "execute_result"
    }
   ],
   "source": [
    "replay()"
   ]
  },
  {
   "cell_type": "code",
   "execution_count": 20,
   "metadata": {},
   "outputs": [
    {
     "name": "stdout",
     "output_type": "stream",
     "text": [
      "Thank You For Playing Tic Tac Toe!\n"
     ]
    }
   ],
   "source": [
    "### MY TIC TAC TOE GAME\n",
    "\n",
    "print('Welcome To Tic Tac Toe!')\n",
    "\n",
    "board=['#']+[' ']*9\n",
    "display_board(board)\n",
    "p_1=player_input()\n",
    "c_1=choose_first()\n",
    "print(c_1[0])\n",
    "\n",
    "lst=['X','O']\n",
    "lst.remove(p_1)\n",
    "p_2=lst[0]\n",
    "\n",
    "first=''\n",
    "second=''\n",
    "if c_1[1]==1:\n",
    "    first+=p_1\n",
    "    second+=p_2\n",
    "else:\n",
    "    first+=p_2\n",
    "    second+=p_1\n",
    "    \n",
    "play=game_on()\n",
    "\n",
    "clear_output()\n",
    "\n",
    "while play: \n",
    "    board=['#']+[' ']*9\n",
    "    while full_board_check(board)==False:\n",
    "        clear_output()\n",
    "        display_board(board)\n",
    "        position=player_choice(board)\n",
    "        \n",
    "        place_marker(board, first, position)\n",
    "        display_board(board)\n",
    "        clear_output()\n",
    "        if win_check(board, first)==True:\n",
    "            if first==p_1:\n",
    "                display_board(board)\n",
    "                print('Player 1 won!')\n",
    "            else:\n",
    "                display_board(board)\n",
    "                print('Player 2 won!')\n",
    "            break\n",
    "        elif full_board_check(board)==True:\n",
    "            break\n",
    "        else:\n",
    "            pass\n",
    "        display_board(board)\n",
    "        position=player_choice(board)\n",
    "        place_marker(board, second, position)\n",
    "        \n",
    "        display_board(board)\n",
    "        clear_output()\n",
    "        if win_check(board, second)==True:\n",
    "            if second==p_2:\n",
    "                display_board(board)\n",
    "                print('Player 2 won!')\n",
    "            else:\n",
    "                display_board(board)\n",
    "                print('Player 1 won!')\n",
    "            break\n",
    "        else:\n",
    "            pass\n",
    "    if win_check(board, first)==False and win_check(board, second)==False:\n",
    "        print(\"It's A Tie!\")\n",
    "    play=replay()\n",
    "    clear_output()\n",
    "    print('Thank You For Playing Tic Tac Toe!')"
   ]
  },
  {
   "cell_type": "markdown",
   "metadata": {
    "collapsed": true
   },
   "source": [
    "## Good Job!"
   ]
  }
 ],
 "metadata": {
  "kernelspec": {
   "display_name": "Python 3",
   "language": "python",
   "name": "python3"
  },
  "language_info": {
   "codemirror_mode": {
    "name": "ipython",
    "version": 3
   },
   "file_extension": ".py",
   "mimetype": "text/x-python",
   "name": "python",
   "nbconvert_exporter": "python",
   "pygments_lexer": "ipython3",
   "version": "3.8.3"
  }
 },
 "nbformat": 4,
 "nbformat_minor": 1
}
